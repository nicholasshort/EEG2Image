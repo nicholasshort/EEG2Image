{
 "cells": [
  {
   "cell_type": "code",
   "execution_count": 28,
   "id": "demanding-trade",
   "metadata": {},
   "outputs": [
    {
     "name": "stdout",
     "output_type": "stream",
     "text": [
      "Requirement already satisfied: split-folders in /workspace/mambaforge/envs/tf2.8/lib/python3.9/site-packages (0.5.1)\n",
      "Requirement already satisfied: matplotlib in /workspace/mambaforge/envs/tf2.8/lib/python3.9/site-packages (3.8.3)\n",
      "Requirement already satisfied: opencv-python in /workspace/mambaforge/envs/tf2.8/lib/python3.9/site-packages (4.9.0.80)\n",
      "Requirement already satisfied: spicy in /workspace/mambaforge/envs/tf2.8/lib/python3.9/site-packages (0.16.0)\n",
      "Requirement already satisfied: contourpy>=1.0.1 in /workspace/mambaforge/envs/tf2.8/lib/python3.9/site-packages (from matplotlib) (1.2.0)\n",
      "Requirement already satisfied: cycler>=0.10 in /workspace/mambaforge/envs/tf2.8/lib/python3.9/site-packages (from matplotlib) (0.12.1)\n",
      "Requirement already satisfied: fonttools>=4.22.0 in /workspace/mambaforge/envs/tf2.8/lib/python3.9/site-packages (from matplotlib) (4.49.0)\n",
      "Requirement already satisfied: kiwisolver>=1.3.1 in /workspace/mambaforge/envs/tf2.8/lib/python3.9/site-packages (from matplotlib) (1.4.5)\n",
      "Requirement already satisfied: numpy<2,>=1.21 in /workspace/mambaforge/envs/tf2.8/lib/python3.9/site-packages (from matplotlib) (1.26.4)\n",
      "Requirement already satisfied: packaging>=20.0 in /workspace/mambaforge/envs/tf2.8/lib/python3.9/site-packages (from matplotlib) (23.2)\n",
      "Requirement already satisfied: pillow>=8 in /workspace/mambaforge/envs/tf2.8/lib/python3.9/site-packages (from matplotlib) (10.2.0)\n",
      "Requirement already satisfied: pyparsing>=2.3.1 in /workspace/mambaforge/envs/tf2.8/lib/python3.9/site-packages (from matplotlib) (3.1.1)\n",
      "Requirement already satisfied: python-dateutil>=2.7 in /workspace/mambaforge/envs/tf2.8/lib/python3.9/site-packages (from matplotlib) (2.8.2)\n",
      "Requirement already satisfied: importlib-resources>=3.2.0 in /workspace/mambaforge/envs/tf2.8/lib/python3.9/site-packages (from matplotlib) (6.1.1)\n",
      "Requirement already satisfied: scipy in /workspace/mambaforge/envs/tf2.8/lib/python3.9/site-packages (from spicy) (1.12.0)\n",
      "Requirement already satisfied: zipp>=3.1.0 in /workspace/mambaforge/envs/tf2.8/lib/python3.9/site-packages (from importlib-resources>=3.2.0->matplotlib) (3.17.0)\n",
      "Requirement already satisfied: six>=1.5 in /workspace/mambaforge/envs/tf2.8/lib/python3.9/site-packages (from python-dateutil>=2.7->matplotlib) (1.16.0)\n",
      "\u001b[33mWARNING: Running pip as the 'root' user can result in broken permissions and conflicting behaviour with the system package manager. It is recommended to use a virtual environment instead: https://pip.pypa.io/warnings/venv\u001b[0m\u001b[33m\n",
      "\u001b[0mNote: you may need to restart the kernel to use updated packages.\n"
     ]
    }
   ],
   "source": [
    "# python librairies installation\n",
    "%pip install split-folders matplotlib opencv-python spicy"
   ]
  },
  {
   "cell_type": "code",
   "execution_count": 29,
   "id": "hawaiian-bracket",
   "metadata": {},
   "outputs": [],
   "source": [
    "# display, transform, read, split ...\n",
    "import numpy as np\n",
    "import cv2 as cv\n",
    "import os\n",
    "import splitfolders\n",
    "import matplotlib.pyplot as plt\n",
    "\n",
    "# tensorflow\n",
    "import tensorflow.keras as keras\n",
    "import tensorflow as tf\n",
    "\n",
    "# image processing\n",
    "from tensorflow.keras.preprocessing import image\n",
    "from tensorflow.keras.preprocessing.image import ImageDataGenerator, load_img\n",
    "\n",
    "# model / neural network\n",
    "from tensorflow.keras import layers\n",
    "from tensorflow.keras.models import Sequential, Model\n",
    "from tensorflow.keras.applications import ResNet50\n",
    "from tensorflow.keras.applications.resnet50 import preprocess_input"
   ]
  },
  {
   "cell_type": "code",
   "execution_count": 35,
   "id": "gentle-dress",
   "metadata": {},
   "outputs": [],
   "source": [
    "datagen = ImageDataGenerator()"
   ]
  },
  {
   "cell_type": "code",
   "execution_count": 36,
   "id": "7c96f44c-8f93-4ac6-9175-2c4e2bc0a0a8",
   "metadata": {},
   "outputs": [],
   "source": [
    "# define classes name\n",
    "class_names = ['apple', 'car', 'dog', 'gold', 'mobile', 'rose', 'scooter', 'tiger', 'wallet', 'watch']"
   ]
  },
  {
   "cell_type": "code",
   "execution_count": 37,
   "id": "needed-spending",
   "metadata": {},
   "outputs": [
    {
     "name": "stdout",
     "output_type": "stream",
     "text": [
      "Found 534 images belonging to 10 classes.\n"
     ]
    }
   ],
   "source": [
    "train_generator = datagen.flow_from_directory(\n",
    "    directory=\"/workspace/steven/EEG2Image/data/images/train\",\n",
    "    target_size=(224, 224),\n",
    "    batch_size=32,\n",
    "    class_mode=\"sparse\",  # Use \"categorical\" if your labels are one-hot encoded\n",
    ")"
   ]
  },
  {
   "cell_type": "code",
   "execution_count": 38,
   "id": "right-auditor",
   "metadata": {},
   "outputs": [
    {
     "name": "stdout",
     "output_type": "stream",
     "text": [
      "Found 175 images belonging to 10 classes.\n"
     ]
    }
   ],
   "source": [
    "valid_generator = datagen.flow_from_directory(\n",
    "    directory=\"/workspace/steven/EEG2Image/data/images/val\",  # Assuming you have a similar structure for validation\n",
    "    target_size=(224, 224),\n",
    "    batch_size=32,\n",
    "    class_mode=\"sparse\",  # Use \"categorical\" if your labels are one-hot encoded\n",
    ")"
   ]
  },
  {
   "cell_type": "code",
   "execution_count": 49,
   "id": "c42dd58e-7c93-4a07-a560-1b74aa341f7f",
   "metadata": {},
   "outputs": [
    {
     "name": "stdout",
     "output_type": "stream",
     "text": [
      "Found 175 images belonging to 10 classes.\n"
     ]
    }
   ],
   "source": [
    "test_generator = datagen.flow_from_directory(\n",
    "    directory=\"/workspace/steven/EEG2Image/data/images/test\",  # Assuming you have a similar structure for validation\n",
    "    target_size=(224, 224),\n",
    "    batch_size=32,\n",
    "    class_mode=\"sparse\",  # Use \"categorical\" if your labels are one-hot encoded\n",
    ")"
   ]
  },
  {
   "cell_type": "code",
   "execution_count": 40,
   "id": "aware-numbers",
   "metadata": {},
   "outputs": [],
   "source": [
    "# ResNet50 model\n",
    "resnet_50 = ResNet50(include_top=False, weights='imagenet', input_shape=(224,224,3))\n",
    "for layer in resnet_50.layers:\n",
    "    layer.trainable = False"
   ]
  },
  {
   "cell_type": "code",
   "execution_count": 41,
   "id": "mounted-winner",
   "metadata": {},
   "outputs": [],
   "source": [
    "# build the entire model\n",
    "x = resnet_50.output\n",
    "x = layers.GlobalAveragePooling2D()(x)\n",
    "x = layers.Dense(512, activation='relu')(x) \n",
    "x = layers.Dropout(0.5)(x)\n",
    "x = layers.Dense(256, activation='relu')(x) \n",
    "x = layers.Dropout(0.5)(x)\n",
    "x = layers.Dense(128, activation='relu')(x) \n",
    "x = layers.Dropout(0.5)(x)\n",
    "x = layers.Dense(64, activation='relu')(x) \n",
    "x = layers.Dropout(0.5)(x)\n",
    "predictions = layers.Dense(len(class_names), activation='softmax')(x)  # Replace `num_classes` with your actual number of classes\n",
    "model = Model(inputs = resnet_50.input, outputs = predictions)"
   ]
  },
  {
   "cell_type": "code",
   "execution_count": 42,
   "id": "0363bdc4",
   "metadata": {},
   "outputs": [],
   "source": [
    "# Create and configure the optimizer with a lower learning rate\n",
    "optimizer = Adam(learning_rate=0.0001)"
   ]
  },
  {
   "cell_type": "code",
   "execution_count": 43,
   "id": "protective-collect",
   "metadata": {},
   "outputs": [],
   "source": [
    "def trainModel(model, epochs, optimizer):\n",
    "    batch_size = 32\n",
    "    model.compile(optimizer=optimizer, loss=\"sparse_categorical_crossentropy\", metrics=[\"accuracy\"])\n",
    "    return model.fit(train_generator, validation_data=valid_generator, epochs=epochs, batch_size=batch_size)"
   ]
  },
  {
   "cell_type": "code",
   "execution_count": 44,
   "id": "smoking-waterproof",
   "metadata": {},
   "outputs": [
    {
     "name": "stdout",
     "output_type": "stream",
     "text": [
      "Epoch 1/10\n",
      "17/17 [==============================] - 8s 230ms/step - loss: 3.7177 - accuracy: 0.0787 - val_loss: 2.2565 - val_accuracy: 0.1714\n",
      "Epoch 2/10\n",
      "17/17 [==============================] - 3s 192ms/step - loss: 3.0303 - accuracy: 0.0993 - val_loss: 2.2038 - val_accuracy: 0.2914\n",
      "Epoch 3/10\n",
      "17/17 [==============================] - 3s 197ms/step - loss: 2.7541 - accuracy: 0.1236 - val_loss: 2.1667 - val_accuracy: 0.3543\n",
      "Epoch 4/10\n",
      "17/17 [==============================] - 3s 201ms/step - loss: 2.4328 - accuracy: 0.1573 - val_loss: 2.1312 - val_accuracy: 0.4857\n",
      "Epoch 5/10\n",
      "17/17 [==============================] - 4s 219ms/step - loss: 2.3657 - accuracy: 0.1685 - val_loss: 2.1057 - val_accuracy: 0.5657\n",
      "Epoch 6/10\n",
      "17/17 [==============================] - 3s 200ms/step - loss: 2.3618 - accuracy: 0.1704 - val_loss: 2.0749 - val_accuracy: 0.6457\n",
      "Epoch 7/10\n",
      "17/17 [==============================] - 3s 192ms/step - loss: 2.3270 - accuracy: 0.1854 - val_loss: 2.0447 - val_accuracy: 0.7257\n",
      "Epoch 8/10\n",
      "17/17 [==============================] - 4s 206ms/step - loss: 2.2390 - accuracy: 0.1966 - val_loss: 2.0129 - val_accuracy: 0.7600\n",
      "Epoch 9/10\n",
      "17/17 [==============================] - 4s 207ms/step - loss: 2.2055 - accuracy: 0.1779 - val_loss: 1.9758 - val_accuracy: 0.7600\n",
      "Epoch 10/10\n",
      "17/17 [==============================] - 3s 205ms/step - loss: 2.1820 - accuracy: 0.2004 - val_loss: 1.9515 - val_accuracy: 0.7086\n"
     ]
    }
   ],
   "source": [
    "#  Now, launch the training with the configured optimizer\n",
    "model_history = trainModel(model=model, epochs=10, optimizer=optimizer)"
   ]
  },
  {
   "cell_type": "code",
   "execution_count": 45,
   "id": "descending-fountain",
   "metadata": {},
   "outputs": [
    {
     "data": {
      "image/png": "[encoded data removed]",
      "text/plain": [
       "<Figure size 640x480 with 1 Axes>"
      ]
     },
     "metadata": {},
     "output_type": "display_data"
    }
   ],
   "source": [
    "loss_train_curve = model_history.history[\"loss\"]\n",
    "loss_val_curve = model_history.history[\"val_loss\"]\n",
    "plt.plot(loss_train_curve, label = \"Train\")\n",
    "plt.plot(loss_val_curve, label = \"Validation\")\n",
    "plt.legend(loc = 'upper right')\n",
    "plt.title(\"Loss\")\n",
    "plt.show()"
   ]
  },
  {
   "cell_type": "code",
   "execution_count": 46,
   "id": "0dd67b04-29fe-4d06-9fbe-a6106e72d398",
   "metadata": {},
   "outputs": [
    {
     "data": {
      "image/png": "[encoded data removed]",
      "text/plain": [
       "<Figure size 640x480 with 1 Axes>"
      ]
     },
     "metadata": {},
     "output_type": "display_data"
    }
   ],
   "source": [
    "acc_train_curve = model_history.history[\"accuracy\"]\n",
    "acc_val_curve = model_history.history[\"val_accuracy\"]\n",
    "plt.plot(acc_train_curve, label = \"Train\")\n",
    "plt.plot(acc_val_curve, label = \"Validation\")\n",
    "plt.legend(loc = 'lower right')\n",
    "plt.title(\"Accuracy\")\n",
    "plt.show()"
   ]
  },
  {
   "cell_type": "code",
   "execution_count": 50,
   "id": "2b69296b-5bc6-46ac-8b28-e3aa1e9a45b0",
   "metadata": {},
   "outputs": [
    {
     "name": "stdout",
     "output_type": "stream",
     "text": [
      "6/6 [==============================] - 1s 127ms/step - loss: 1.9515 - accuracy: 0.7086\n",
      "The test loss is:  1.9515215158462524\n",
      "The best accuracy is:  70.85714340209961\n"
     ]
    }
   ],
   "source": [
    "test_loss, test_acc = model.evaluate(test_generator)\n",
    "print(\"The test loss is: \", test_loss)\n",
    "print(\"The best accuracy is: \", test_acc*100)"
   ]
  },
  {
   "cell_type": "code",
   "execution_count": 48,
   "id": "6626b98f-5085-4d49-9a08-e0aade03bcd7",
   "metadata": {},
   "outputs": [
    {
     "ename": "FileNotFoundError",
     "evalue": "[Errno 2] No such file or directory: '/workspace/tulipe-test.jpeg'",
     "output_type": "error",
     "traceback": [
      "\u001b[0;31m---------------------------------------------------------------------------\u001b[0m",
      "\u001b[0;31mFileNotFoundError\u001b[0m                         Traceback (most recent call last)",
      "Cell \u001b[0;32mIn[48], line 1\u001b[0m\n\u001b[0;32m----> 1\u001b[0m img \u001b[38;5;241m=\u001b[39m \u001b[43mtf\u001b[49m\u001b[38;5;241;43m.\u001b[39;49m\u001b[43mkeras\u001b[49m\u001b[38;5;241;43m.\u001b[39;49m\u001b[43mpreprocessing\u001b[49m\u001b[38;5;241;43m.\u001b[39;49m\u001b[43mimage\u001b[49m\u001b[38;5;241;43m.\u001b[39;49m\u001b[43mload_img\u001b[49m\u001b[43m(\u001b[49m\u001b[38;5;124;43m'\u001b[39;49m\u001b[38;5;124;43m/workspace/tulipe-test.jpeg\u001b[39;49m\u001b[38;5;124;43m'\u001b[39;49m\u001b[43m,\u001b[49m\u001b[43m \u001b[49m\u001b[43mtarget_size\u001b[49m\u001b[38;5;241;43m=\u001b[39;49m\u001b[43m(\u001b[49m\u001b[38;5;241;43m224\u001b[39;49m\u001b[43m,\u001b[49m\u001b[43m \u001b[49m\u001b[38;5;241;43m224\u001b[39;49m\u001b[43m)\u001b[49m\u001b[43m)\u001b[49m\n\u001b[1;32m      2\u001b[0m img_array \u001b[38;5;241m=\u001b[39m tf\u001b[38;5;241m.\u001b[39mkeras\u001b[38;5;241m.\u001b[39mpreprocessing\u001b[38;5;241m.\u001b[39mimage\u001b[38;5;241m.\u001b[39mimg_to_array(img)\n\u001b[1;32m      3\u001b[0m img_array \u001b[38;5;241m=\u001b[39m np\u001b[38;5;241m.\u001b[39marray([img_array]) \n",
      "File \u001b[0;32m/workspace/mambaforge/envs/tf2.8/lib/python3.9/site-packages/keras/src/utils/image_utils.py:422\u001b[0m, in \u001b[0;36mload_img\u001b[0;34m(path, grayscale, color_mode, target_size, interpolation, keep_aspect_ratio)\u001b[0m\n\u001b[1;32m    420\u001b[0m     \u001b[38;5;28;01mif\u001b[39;00m \u001b[38;5;28misinstance\u001b[39m(path, pathlib\u001b[38;5;241m.\u001b[39mPath):\n\u001b[1;32m    421\u001b[0m         path \u001b[38;5;241m=\u001b[39m \u001b[38;5;28mstr\u001b[39m(path\u001b[38;5;241m.\u001b[39mresolve())\n\u001b[0;32m--> 422\u001b[0m     \u001b[38;5;28;01mwith\u001b[39;00m \u001b[38;5;28;43mopen\u001b[39;49m\u001b[43m(\u001b[49m\u001b[43mpath\u001b[49m\u001b[43m,\u001b[49m\u001b[43m \u001b[49m\u001b[38;5;124;43m\"\u001b[39;49m\u001b[38;5;124;43mrb\u001b[39;49m\u001b[38;5;124;43m\"\u001b[39;49m\u001b[43m)\u001b[49m \u001b[38;5;28;01mas\u001b[39;00m f:\n\u001b[1;32m    423\u001b[0m         img \u001b[38;5;241m=\u001b[39m pil_image\u001b[38;5;241m.\u001b[39mopen(io\u001b[38;5;241m.\u001b[39mBytesIO(f\u001b[38;5;241m.\u001b[39mread()))\n\u001b[1;32m    424\u001b[0m \u001b[38;5;28;01melse\u001b[39;00m:\n",
      "\u001b[0;31mFileNotFoundError\u001b[0m: [Errno 2] No such file or directory: '/workspace/tulipe-test.jpeg'"
     ]
    }
   ],
   "source": [
    "img = tf.keras.preprocessing.image.load_img('/workspace/steven/EEG2Image/data/images/dog.jpeg', target_size=(224, 224))\n",
    "img_array = tf.keras.preprocessing.image.img_to_array(img)\n",
    "img_array = np.array([img_array]) \n",
    "img"
   ]
  },
  {
   "cell_type": "code",
   "execution_count": null,
   "id": "fca3ead9-d465-43f1-a989-2b725fecb858",
   "metadata": {},
   "outputs": [],
   "source": [
    "# generate predictions for samples\n",
    "predictions = model.predict(img_array)\n",
    "print(predictions)"
   ]
  },
  {
   "cell_type": "code",
   "execution_count": null,
   "id": "34ef2679-81de-4681-be27-d59653ab7ecd",
   "metadata": {},
   "outputs": [],
   "source": [
    "# generate argmax for predictions\n",
    "class_id = np.argmax(predictions, axis = 1)\n",
    "print(class_id)"
   ]
  },
  {
   "cell_type": "code",
   "execution_count": null,
   "id": "3d8aa473-00b4-4dec-9f26-0c1241718ae8",
   "metadata": {},
   "outputs": [],
   "source": [
    "# transform classes number into classes name\n",
    "class_names[class_id.item()]"
   ]
  },
  {
   "cell_type": "markdown",
   "id": "7f941624-584a-47e6-9f3a-bd4f68756459",
   "metadata": {},
   "source": [
    "### Step 7 - Save and export the model\n",
    "\n",
    ">To save your model, you should create an other Object Storage container (with write rights) and mount it in your workspace (`saved_model` in this example).\n",
    "\n",
    "You can now save your model in a dedicated folder."
   ]
  },
  {
   "cell_type": "code",
   "execution_count": null,
   "id": "6fdafa90-8526-415e-9344-da08d5e5ed3a",
   "metadata": {},
   "outputs": [],
   "source": [
    "model.save('/workspace/saved_model/my_model')"
   ]
  },
  {
   "cell_type": "code",
   "execution_count": null,
   "id": "40d56c37-f260-4880-9acd-eb6f1c1e3859",
   "metadata": {},
   "outputs": [],
   "source": [
    "# my_model directory\n",
    "%ls /workspace/saved_model/"
   ]
  },
  {
   "cell_type": "code",
   "execution_count": null,
   "id": "40302468-c5af-4b63-a6d1-eacdc63d5a8c",
   "metadata": {},
   "outputs": [],
   "source": [
    "# contains an assets folder, saved_model.pb, and variables folder\n",
    "%ls /workspace/saved_model/my_model"
   ]
  },
  {
   "cell_type": "code",
   "execution_count": null,
   "id": "735b5de7-6a63-4571-aa15-acbbd0fce6dd",
   "metadata": {},
   "outputs": [],
   "source": [
    "model = tf.keras.models.load_model('/workspace/saved_model/my_model')\n",
    "model.summary()"
   ]
  },
  {
   "cell_type": "markdown",
   "id": "8a7ebcf1-2138-4c46-80f4-db94079fa229",
   "metadata": {},
   "source": [
    "## Conclusion\n",
    "\n",
    "**Transfer Learning** saves time by achieving better performance in fewer epochs. \n",
    "\n",
    "Train and test this model on your own dataset !"
   ]
  }
 ],
 "metadata": {
  "kernelspec": {
   "display_name": "Tensorflow 2.8",
   "language": "python",
   "name": "python3"
  },
  "language_info": {
   "codemirror_mode": {
    "name": "ipython",
    "version": 3
   },
   "file_extension": ".py",
   "mimetype": "text/x-python",
   "name": "python",
   "nbconvert_exporter": "python",
   "pygments_lexer": "ipython3",
   "version": "3.9.18"
  }
 },
 "nbformat": 4,
 "nbformat_minor": 5
}
